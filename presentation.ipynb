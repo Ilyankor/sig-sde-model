{
 "cells": [
  {
   "cell_type": "markdown",
   "id": "90300767",
   "metadata": {},
   "source": [
    "# Signatures and modeling with them"
   ]
  },
  {
   "cell_type": "markdown",
   "id": "e5f627af",
   "metadata": {},
   "source": [
    "## Computing signatures"
   ]
  },
  {
   "cell_type": "code",
   "execution_count": 11,
   "id": "f42c1002",
   "metadata": {},
   "outputs": [
    {
     "data": {
      "image/png": "[encoded data removed]",
      "text/plain": [
       "<Figure size 640x480 with 1 Axes>"
      ]
     },
     "metadata": {},
     "output_type": "display_data"
    }
   ],
   "source": [
    "import numpy as np\n",
    "import matplotlib.pyplot as plt\n",
    "\n",
    "data = np.array([\n",
    "    [0.0, 5.0], [1.0, 4.707], [2.0, 4.0], [3.0, 3.292], [4.0, 3.0],\n",
    "    [5.0, 3.292], [6.0, 4.0], [7.0, 4.707], [8.0, 5], [9.0, 4.414],\n",
    "    [10.0, 3.0], [11.0, 1.586], [12.0, 1.0], [13.0, 1.586], [14.0, 3.0],\n",
    "    [15.0, 4.414], [16.0, 5.0]\n",
    "])\n",
    "\n",
    "plt.scatter(data[:, 0], data[:, 1])\n",
    "plt.grid()"
   ]
  },
  {
   "cell_type": "code",
   "execution_count": 12,
   "id": "03d4d401-3be4-4f1e-94d1-a6dd3f9eb700",
   "metadata": {},
   "outputs": [
    {
     "name": "stdout",
     "output_type": "stream",
     "text": [
      "1.0 \n",
      "\n",
      "[-2.  0.] \n",
      "\n",
      "[[ 2.       1.57079]\n",
      " [-1.57079 -0.     ]] \n",
      "\n"
     ]
    }
   ],
   "source": [
    "from src.util.signature import signature\n",
    "\n",
    "# f(t) = (t, t^2)\n",
    "# t = np.linspace(0, 2, 1000)\n",
    "# data = np.array([t, t**2]).T\n",
    "\n",
    "# f(t) = (cos(t), sin(t))\n",
    "t = np.linspace(0, np.pi, 1000)\n",
    "data = np.array([np.cos(t), np.sin(t)]).T\n",
    "\n",
    "depth = 2\n",
    "sig = signature(data, depth)\n",
    "\n",
    "np.set_printoptions(precision=5, suppress=True)\n",
    "for x in range(depth+1):\n",
    "    print(sig[x], '\\n')"
   ]
  },
  {
   "cell_type": "markdown",
   "id": "c35082cf-eb73-44b5-9652-5d18fada5f0e",
   "metadata": {},
   "source": [
    "### Comparison with a standard package"
   ]
  },
  {
   "cell_type": "code",
   "execution_count": 14,
   "id": "d79ab010-fd8e-4c44-9605-81c60d70dcf3",
   "metadata": {},
   "outputs": [
    {
     "data": {
      "text/plain": [
       "array([ 1.     , -2.     ,  0.     ,  2.     ,  1.57079, -1.57079,\n",
       "        0.     ])"
      ]
     },
     "execution_count": 14,
     "metadata": {},
     "output_type": "execute_result"
    }
   ],
   "source": [
    "import esig\n",
    "\n",
    "esig.stream2sig(data, depth)"
   ]
  },
  {
   "cell_type": "markdown",
   "id": "48fcb94a-9dbe-43fd-9a26-13f119f1cc10",
   "metadata": {},
   "source": [
    "## Reconstructing asset price with Heston model"
   ]
  },
  {
   "cell_type": "markdown",
   "id": "0f00f604-81f7-4637-8977-a25a90ad01c5",
   "metadata": {},
   "source": [
    "### The model\n",
    "\n",
    "The Heston model is\n",
    "$$\n",
    "\\begin{aligned}\n",
    "    \\mathrm{d} S_t &= \\mu S_t \\, \\mathrm{d} t +  S_t \\sqrt{V_t} \\, \\mathrm{d} W_t^S \\\\\n",
    "    \\mathrm{d} V_t &= \\kappa (\\theta - V_t) \\, \\mathrm{d} t + \\sigma \\sqrt{V_t} \\, \\mathrm{d} W_t^V \\\\\n",
    "    \\mathrm{d} \\left[W^S, W^V \\right]_t &= \\rho \\, \\mathrm{d} t\n",
    "\\end{aligned}\n",
    "$$\n",
    "where $S_t$ is the price, $V_t$ is the variance of the volatility, and $\\mu$, $\\kappa$, $\\theta$, $\\sigma$ are constants.\n",
    "Brownian motions $W^S$ and $W^V$ are correlated wth coefficient $-1 \\leq \\rho \\leq 1$."
   ]
  },
  {
   "cell_type": "markdown",
   "id": "8ab4a32d-4b28-44f6-ac6e-3e0553b376b4",
   "metadata": {},
   "source": [
    "#### The goal\n",
    "\n",
    "Can we create a model using the signature of $X = (t, W^S, W^V)$ that is able to reconstruct the price and volatility data?\n",
    "This is also called calibration."
   ]
  },
  {
   "cell_type": "markdown",
   "id": "956c098d-d28d-4767-bc08-074d5f0a138d",
   "metadata": {},
   "source": [
    "### Creating the model\n",
    "\n",
    "1.  Observe price and volatility data.\n",
    "2.  Estimate the underlying Brownian motion.\n",
    "3.  Use linear regression with Lasso regularization to create a model.\n",
    "\n",
    "We use the same parameters as [Cuchiero, Gazzani, Svaluto-Ferro: Signature-based models: theory and calibration](https://arxiv.org/abs/2207.13136)."
   ]
  },
  {
   "cell_type": "code",
   "execution_count": null,
   "id": "bc229b99-fe81-49ec-9830-c41809bda044",
   "metadata": {},
   "outputs": [],
   "source": [
    "rng = np.random.default_rng()\n",
    "\n",
    "S0 = 1.0\n",
    "V0 = 0.08\n",
    "t0 = 0.0\n",
    "tn = 1.0\n",
    "n = 1000\n",
    "mu = 0.001\n",
    "kappa = 0.5\n",
    "theta = 0.15\n",
    "sigma = 0.25\n",
    "rho = -0.5\n",
    "\n",
    "params = (S0, V0, t0, tn, n, mu, kappa, theta, sigma, rho)"
   ]
  },
  {
   "cell_type": "markdown",
   "id": "72854c1e-68a9-43b4-94e5-98a4fe59631a",
   "metadata": {},
   "source": [
    "#### Simulate data with Euler-Maruyama"
   ]
  },
  {
   "cell_type": "code",
   "execution_count": null,
   "id": "655033d6-aecd-4ee9-8ed3-516401baffb9",
   "metadata": {},
   "outputs": [],
   "source": [
    "from src.util.heston import *\n",
    "from src.util.brownian import estimate_brownian\n",
    "\n",
    "t, u, w = heston_euler(*params, rng)    # Euler-Maruyama\n",
    "# t, u = heston_qe(*params, rng)        # quadratic exponential\n",
    "\n",
    "# estimate the Brownian motion\n",
    "w_est = estimate_brownian(u)\n",
    "brownian_data = np.column_stack((t, w_est))\n",
    "\n",
    "# can also directly input the Brownian motions used to generate the Heston model\n",
    "# brownian_data = np.column_stack((t, w))"
   ]
  },
  {
   "cell_type": "markdown",
   "id": "64213a64-116a-45a0-bc63-6c5dc4df8651",
   "metadata": {},
   "source": [
    "#### Compute the signature for each time"
   ]
  },
  {
   "cell_type": "code",
   "execution_count": 17,
   "id": "15143d3e-18c9-44f6-b82e-964403fb998d",
   "metadata": {},
   "outputs": [],
   "source": [
    "samples, channels = brownian_data.shape\n",
    "depth = 2\n",
    "\n",
    "# since the signature always starts with 1, ignore it\n",
    "sig_keys = esig.sigkeys(channels, depth).strip().split(' ')\n",
    "features = len(sig_keys) - 1\n",
    "\n",
    "data = np.zeros((samples, features))\n",
    "\n",
    "for i in range(2, n+2):\n",
    "    data[i-1, :] = esig.stream2sig(brownian_data[:i, :], depth)[1:]"
   ]
  },
  {
   "cell_type": "markdown",
   "id": "af854b28-2ef4-4974-88b2-c16fbdc8ec50",
   "metadata": {},
   "source": [
    "#### Perform linear regression"
   ]
  },
  {
   "cell_type": "code",
   "execution_count": null,
   "id": "7e167173-c4a1-488b-aa85-6620f1855961",
   "metadata": {},
   "outputs": [],
   "source": [
    "import sklearn\n",
    "\n",
    "# price\n",
    "s = u[:, 0]\n",
    "\n",
    "lasso_reg = 1e-5\n",
    "model_sig = sklearn.linear_model.Lasso(alpha=lasso_reg, max_iter=10000)\n",
    "model_sig.fit(data, s)\n",
    "\n",
    "# try linear regression with Brownian motion\n",
    "# model_brown = sklearn.linear_model.Lasso(alpha=lasso_reg, max_iter=10000)\n",
    "# model_brown.fit(brownian_data, s)"
   ]
  },
  {
   "cell_type": "markdown",
   "id": "6fcc66f3-55b7-4f5b-8ffe-97bfecec362d",
   "metadata": {},
   "source": [
    "### Testing the model\n",
    "\n",
    "To test the model, we\n",
    "\n",
    "1.  Generate new data the model has not seen and estimate the Brownian motions.\n",
    "2.  Feed the data into the model.\n",
    "3.  Evaluate using mean squared error (as is used in the above paper)"
   ]
  },
  {
   "cell_type": "code",
   "execution_count": null,
   "id": "b7a4f8b1-778d-4adb-91b7-e9c8dc48cc05",
   "metadata": {},
   "outputs": [],
   "source": [
    "# simulate new data\n",
    "t, u, w = heston_euler(*params, rng)    # Euler-Maruyama\n",
    "# t, u = heston_qe(*params, rng)         # quadratic exponential\n",
    "\n",
    "w_est = estimate_brownian(u)\n",
    "brownian_data = np.column_stack((t, w_est))\n",
    "\n",
    "# compute the signature\n",
    "data = np.zeros((samples, features))\n",
    "\n",
    "for j in range(2, n+2):\n",
    "    data[j-1, :] = esig.stream2sig(brownian_data[:j, :], depth)[1:]\n",
    "\n",
    "# make prediction using the model\n",
    "s_real = u[:, 0]\n",
    "s_predicted = model_sig.predict(data)\n",
    "\n",
    "# error\n",
    "print(sklearn.metrics.mean_squared_error(s_real, s_predicted))"
   ]
  },
  {
   "cell_type": "code",
   "execution_count": null,
   "id": "b424f446",
   "metadata": {},
   "outputs": [],
   "source": [
    "# s_predicted_brown = model_brown.predict(brownian_data)"
   ]
  },
  {
   "cell_type": "code",
   "execution_count": null,
   "id": "e8410348-1b14-4dbb-9906-2562da8410e2",
   "metadata": {},
   "outputs": [],
   "source": [
    "plt.plot(t, s_real, label=\"Real price\")\n",
    "plt.plot(t, s_predicted, label=\"Predicted price\")\n",
    "# plt.plot(t, s_predicted_brown, label=\"Brownian prediction\")\n",
    "plt.legend()\n",
    "plt.grid()\n",
    "plt.show()"
   ]
  }
 ],
 "metadata": {
  "kernelspec": {
   "display_name": ".venv",
   "language": "python",
   "name": "python3"
  },
  "language_info": {
   "codemirror_mode": {
    "name": "ipython",
    "version": 3
   },
   "file_extension": ".py",
   "mimetype": "text/x-python",
   "name": "python",
   "nbconvert_exporter": "python",
   "pygments_lexer": "ipython3",
   "version": "3.12.7"
  }
 },
 "nbformat": 4,
 "nbformat_minor": 5
}
